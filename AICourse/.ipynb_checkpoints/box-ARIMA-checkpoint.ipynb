{
 "cells": [
  {
   "cell_type": "markdown",
   "metadata": {},
   "source": [
    "# Demonstration for Time series forecasting\n",
    "\n",
    "Forecasting for the count infected by COVID-19 (USA)\n",
    "\n",
    "Author: Jim Xie\n",
    "\n",
    "Date: 2020-7-20"
   ]
  },
  {
   "cell_type": "code",
   "execution_count": null,
   "metadata": {
    "scrolled": true
   },
   "outputs": [],
   "source": [
    "import matplotlib.pyplot as plt\n",
    "%matplotlib inline\n",
    "import numpy as np\n",
    "import pandas as pd\n",
    "import seaborn as sns\n",
    "from statsmodels.graphics.tsaplots import plot_acf, plot_pacf\n",
    "from statsmodels.tsa.stattools import adfuller\n",
    "from statsmodels.stats.diagnostic import acorr_ljungbox\n",
    "from statsmodels.tsa.arima_model import ARMA\n",
    "from statsmodels.tsa.arima_model import ARIMA\n",
    "import json\n",
    "plt.style.use({'figure.figsize':(12, 5)})\n",
    "sns.set_style('dark')\n",
    "sns.set_context(\"poster\")\n",
    "#np.set_printoptions(suppress=True,   precision=10,  threshold=2000,  linewidth=150)  \n",
    "pd.set_option('display.float_format',lambda x : '%.2f' % x)\n",
    "plt.rcParams['axes.unicode_minus'] = False\n",
    "from warnings import filterwarnings\n",
    "filterwarnings('ignore')"
   ]
  },
  {
   "cell_type": "markdown",
   "metadata": {},
   "source": [
    "# Prepare train data"
   ]
  },
  {
   "cell_type": "code",
   "execution_count": null,
   "metadata": {
    "scrolled": true
   },
   "outputs": [],
   "source": [
    "df = pd.read_csv('./US/us_states_covid19_daily.csv')\n",
    "df = pd.read_csv('./US-812/us_states_covid19_daily.csv')\n",
    "df = pd.read_csv('./US-830/us_states_covid19_daily.csv')\n",
    "del df['hash']\n",
    "del df['commercialScore']\n",
    "del df['negativeRegularScore']\n",
    "del df['negativeScore']\n",
    "del df['positiveScore']\n",
    "del df['score']\n",
    "del df['grade']\n",
    "del df['hospitalizedIncrease']\n",
    "del df['deathIncrease']\n",
    "del df['hospitalizedCumulative']\n",
    "del df['hospitalizedCurrently']\n",
    "del df['inIcuCurrently']\n",
    "del df['inIcuCumulative']\n",
    "del df['onVentilatorCurrently']\n",
    "del df['onVentilatorCumulative']\n",
    "del df['recovered']\n",
    "del df['lastUpdateEt']\n",
    "del df['dateModified']\n",
    "del df['checkTimeEt']\n",
    "del df['dateChecked']\n",
    "df['date'] = df['date'].astype(str)\n",
    "df.fillna(value=0,inplace=True)\n",
    "df.head(5)"
   ]
  },
  {
   "cell_type": "code",
   "execution_count": null,
   "metadata": {
    "scrolled": true
   },
   "outputs": [],
   "source": [
    "def GetRawSamples():\n",
    "    df2 = pd.DataFrame()\n",
    "    df2['date'] = df['date']\n",
    "    df2['state'] = df['state']\n",
    "    df2['positive']=df['positive']\n",
    "    df2['positiveIncrease']=df['positiveIncrease']\n",
    "    df2['test'] = df['total']\n",
    "    df2['testIncrease'] = df['totalTestResultsIncrease']\n",
    "    df2.sort_values('date',ascending=True,inplace=True)\n",
    "    df2 = df2[df2['date']>='20200401']\n",
    "    df2 = df2.reset_index()\n",
    "    del df2['index']\n",
    "    return df2\n",
    "\n",
    "def GetSamples(state = None):\n",
    "    dr = GetRawSamples()\n",
    "    if state:\n",
    "        dr = dr[dr['state']==state]\n",
    "    else:\n",
    "        dr = dr.groupby(['date'])['positive','positiveIncrease','test','testIncrease'].agg('sum')\n",
    "        #dr = dr.to_frame().reset_index()\n",
    "        dr['state'] = 'ALL'\n",
    "    dr.sort_values('date',ascending=True,inplace=True)\n",
    "    dr = dr.reset_index()\n",
    "    return dr"
   ]
  },
  {
   "cell_type": "code",
   "execution_count": null,
   "metadata": {
    "scrolled": true
   },
   "outputs": [],
   "source": [
    "#ADF Test result同时小于1%、5%、10%\n",
    "#P-value (不变显著性) 接近0。\n",
    "def check_stationarity(timeSeries):\n",
    "    dftest = adfuller(timeSeries)\n",
    "    dfoutput = pd.Series(dftest[0:4], index=['Test Statistic','p-value','#Lags Used','Number of Observations Used'])\n",
    "    for key,value in dftest[4].items():\n",
    "        dfoutput['Critical Value (%s)'%key] = value\n",
    "    del dfoutput['#Lags Used']\n",
    "    del dfoutput['Number of Observations Used']\n",
    "    return dfoutput"
   ]
  },
  {
   "cell_type": "code",
   "execution_count": null,
   "metadata": {
    "scrolled": false
   },
   "outputs": [],
   "source": [
    "df0 = GetSamples()\n",
    "verify_count = 5\n",
    "df_verify = df0.tail(verify_count)\n",
    "df0.drop(df0.tail(verify_count).index,inplace=True)\n",
    "data = pd.DataFrame()\n",
    "raw_data = df0['positiveIncrease']\n",
    "raw_date = df0['date']\n",
    "log_data = np.log(raw_data)\n",
    "raw_data.plot()"
   ]
  },
  {
   "cell_type": "code",
   "execution_count": null,
   "metadata": {
    "scrolled": false
   },
   "outputs": [],
   "source": [
    "check_stationarity(raw_data)"
   ]
  },
  {
   "cell_type": "code",
   "execution_count": null,
   "metadata": {
    "scrolled": false
   },
   "outputs": [],
   "source": [
    "plot_acf(raw_data).show()\n",
    "plot_pacf(raw_data).show()"
   ]
  },
  {
   "cell_type": "code",
   "execution_count": null,
   "metadata": {
    "scrolled": false
   },
   "outputs": [],
   "source": [
    "data_mean = raw_data.rolling(window=7).mean()\n",
    "data_mean.dropna(inplace=True)"
   ]
  },
  {
   "cell_type": "code",
   "execution_count": null,
   "metadata": {
    "scrolled": true
   },
   "outputs": [],
   "source": [
    "check_stationarity(data_mean)"
   ]
  },
  {
   "cell_type": "code",
   "execution_count": null,
   "metadata": {
    "scrolled": false
   },
   "outputs": [],
   "source": [
    "data_mean.plot()\n",
    "plot_acf(data_mean).show()"
   ]
  },
  {
   "cell_type": "code",
   "execution_count": null,
   "metadata": {
    "scrolled": false
   },
   "outputs": [],
   "source": [
    "data_diff_1 = data_mean.diff(1)\n",
    "data_diff_1.dropna(inplace=True)\n",
    "data_diff_2 = data_diff_1.diff(1)\n",
    "data_diff_2.dropna(inplace=True)\n",
    "#data_diff_3 = data_diff_2.diff(1)\n",
    "#data_diff_3.dropna(inplace=True)\n",
    "#check_stationarity(data_diff_3)"
   ]
  },
  {
   "cell_type": "code",
   "execution_count": null,
   "metadata": {
    "scrolled": false
   },
   "outputs": [],
   "source": [
    "check_stationarity(data_diff_1)"
   ]
  },
  {
   "cell_type": "code",
   "execution_count": null,
   "metadata": {
    "scrolled": false
   },
   "outputs": [],
   "source": [
    "plot_acf(data_diff_1).show()"
   ]
  },
  {
   "cell_type": "code",
   "execution_count": null,
   "metadata": {
    "scrolled": true
   },
   "outputs": [],
   "source": [
    "check_stationarity(data_diff_2)"
   ]
  },
  {
   "cell_type": "code",
   "execution_count": null,
   "metadata": {
    "scrolled": false
   },
   "outputs": [],
   "source": [
    "data_diff_2.plot()"
   ]
  },
  {
   "cell_type": "code",
   "execution_count": null,
   "metadata": {
    "scrolled": false
   },
   "outputs": [],
   "source": [
    "plot_acf(data_diff_2,lags=15).show()"
   ]
  },
  {
   "cell_type": "code",
   "execution_count": null,
   "metadata": {
    "scrolled": false
   },
   "outputs": [],
   "source": [
    "plot_pacf(data_diff_2,lags=15).show()"
   ]
  },
  {
   "cell_type": "markdown",
   "metadata": {},
   "source": [
    "# 模型选择"
   ]
  },
  {
   "cell_type": "code",
   "execution_count": null,
   "metadata": {
    "scrolled": false
   },
   "outputs": [],
   "source": [
    "train_data = raw_data.copy()\n",
    "\n",
    "rol_mean = log_data.rolling(window=7).mean()\n",
    "rol_mean.dropna(inplace=True)\n",
    "ts_diff_1 = rol_mean.diff(1)\n",
    "ts_diff_1.dropna(inplace=True)\n",
    "\n",
    "ts_diff_2 = ts_diff_1.diff(1)\n",
    "ts_diff_2.dropna(inplace=True)\n",
    "\n",
    "def show_result(ts,log_recover,error):\n",
    "    plt.figure(facecolor='white')\n",
    "    log_recover.plot(color='blue', label='Predict')\n",
    "    ts.plot(color='red', label='Original')\n",
    "    plt.legend(loc='best')\n",
    "    plt.title('RMSE: %.4f'% error)\n",
    "    plt.show()"
   ]
  },
  {
   "cell_type": "markdown",
   "metadata": {},
   "source": [
    "# Test with ARIMA recommand params"
   ]
  },
  {
   "cell_type": "code",
   "execution_count": null,
   "metadata": {},
   "outputs": [],
   "source": [
    "train_data = raw_data.copy()\n",
    "train_data = train_data.astype(\"float64\")\n",
    "\n",
    "result_arima = ARIMA(train_data, order=(2, 0, 3)).fit( disp=-1, method='css')\n",
    "predicted = result_arima.predict()\n",
    "error = (np.sqrt(sum((predicted-train_data).dropna()**2/train_data.size)))\n",
    "show_result(train_data,predicted,error)"
   ]
  },
  {
   "cell_type": "markdown",
   "metadata": {},
   "source": [
    "# Train all params"
   ]
  },
  {
   "cell_type": "code",
   "execution_count": null,
   "metadata": {
    "scrolled": false
   },
   "outputs": [],
   "source": [
    "train_data = raw_data.copy()\n",
    "train_data = train_data.astype(\"float64\")\n",
    "\n",
    "result_arima = None\n",
    "min_error = 65536\n",
    "min_predicted = None\n",
    "min_p = None\n",
    "min_q = None\n",
    "min_d = None\n",
    "for p in range(4):\n",
    "    for q in range(4):\n",
    "        for d in range(2):\n",
    "          \n",
    "            try:\n",
    "                model = ARIMA(train_data, order=(p, d, q))\n",
    "                res_arima = model.fit( disp=-1, method='css')\n",
    "                predicted = res_arima.predict()\n",
    "                error = (np.sqrt(sum((predicted-train_data).dropna()**2/train_data.size)))\n",
    "                if error < min_error:\n",
    "                    result_arima = res_arima\n",
    "                    min_predicted = predicted\n",
    "                    min_error = error\n",
    "                    min_p = p\n",
    "                    min_d = d\n",
    "                    min_q = q\n",
    "            except:\n",
    "                pass\n",
    "print(min_p,min_d,min_q)\n",
    "show_result(train_data,min_predicted,min_error)"
   ]
  },
  {
   "cell_type": "code",
   "execution_count": null,
   "metadata": {},
   "outputs": [],
   "source": [
    "predict_ts=result_arima.forecast(verify_count)  \n",
    "for i in range(verify_count):\n",
    "    real = df_verify.iloc[i]['positiveIncrease']\n",
    "    real_date = df_verify.iloc[i]['date']\n",
    "    predicted = int(predict_ts[0][i])\n",
    "    \n",
    "    diff = abs(predicted-real)\n",
    "    rate = \"%.4f\"%(diff*100/real)\n",
    "    print(real_date,\"real:\",real, \" pred :\",predicted, \" error :\",diff,\" rate :\",rate)"
   ]
  },
  {
   "cell_type": "markdown",
   "metadata": {},
   "source": [
    "==============="
   ]
  },
  {
   "cell_type": "code",
   "execution_count": null,
   "metadata": {},
   "outputs": [],
   "source": [
    "train_data = data_diff_2.astype(\"float64\")\n",
    "\n",
    "model = ARIMA(train_data, order=(3, 0, 2))\n",
    "result_arima = model.fit( disp=-1, method='css')\n",
    "predicted = result_arima.predict()\n",
    "\n",
    "min_error = (np.sqrt(sum((predicted-train_data).dropna()**2/train_data.size)))\n",
    "show_result(train_data,predicted,min_error)\n"
   ]
  },
  {
   "cell_type": "code",
   "execution_count": null,
   "metadata": {
    "scrolled": false
   },
   "outputs": [],
   "source": [
    "from statsmodels.tsa.seasonal import seasonal_decompose\n",
    "decomposition = seasonal_decompose(data_diff_2, period=7,model=\"additive\")\n",
    "\n",
    "trend = decomposition.trend\n",
    "seasonal = decomposition.seasonal\n",
    "residual = decomposition.resid\n",
    "trend.dropna(inplace=True)\n",
    "seasonal.dropna(inplace=True)\n",
    "residual.dropna(inplace=True)\n",
    "trend.plot()"
   ]
  },
  {
   "cell_type": "code",
   "execution_count": null,
   "metadata": {
    "scrolled": false
   },
   "outputs": [],
   "source": [
    "seasonal.plot()"
   ]
  },
  {
   "cell_type": "code",
   "execution_count": null,
   "metadata": {
    "scrolled": false
   },
   "outputs": [],
   "source": [
    "residual.plot()"
   ]
  },
  {
   "cell_type": "code",
   "execution_count": null,
   "metadata": {},
   "outputs": [],
   "source": []
  }
 ],
 "metadata": {
  "kernelspec": {
   "display_name": "Python 3",
   "language": "python",
   "name": "python3"
  },
  "language_info": {
   "codemirror_mode": {
    "name": "ipython",
    "version": 3
   },
   "file_extension": ".py",
   "mimetype": "text/x-python",
   "name": "python",
   "nbconvert_exporter": "python",
   "pygments_lexer": "ipython3",
   "version": "3.7.9"
  }
 },
 "nbformat": 4,
 "nbformat_minor": 2
}
