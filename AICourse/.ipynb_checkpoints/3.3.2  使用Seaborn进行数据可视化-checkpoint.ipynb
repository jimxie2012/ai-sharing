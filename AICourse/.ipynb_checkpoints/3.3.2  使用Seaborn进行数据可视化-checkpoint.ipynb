{
 "cells": [
  {
   "cell_type": "markdown",
   "metadata": {},
   "source": [
    "使用seaborn进行数据可视化\n",
    "\n",
    "作者：谢文伟\n",
    "\n",
    "邮件：xiewenwei@sina.com\n",
    "\n",
    "主页：https://github.com/jimxie2012/ai-cv"
   ]
  },
  {
   "cell_type": "raw",
   "metadata": {},
   "source": [
    "导入包，初始化统计图样式"
   ]
  },
  {
   "cell_type": "code",
   "execution_count": null,
   "metadata": {},
   "outputs": [],
   "source": [
    "import pandas as pd\n",
    "import matplotlib.pyplot as plt\n",
    "import numpy as np\n",
    "import seaborn as sns\n",
    "from warnings import filterwarnings\n",
    "plt.style.use({'figure.figsize':(12, 6)})#设置画布大小\n",
    "sns.set(font_scale=1.5) #设置坐标轴和标题字体大小\n",
    "pd.set_option('display.float_format', lambda x: '%.3f' % x)#关闭pandas科学计数法\n",
    "plt.rcParams['font.sans-serif']=['SimHei'] #使用中文字体"
   ]
  },
  {
   "cell_type": "markdown",
   "metadata": {},
   "source": [
    "# 读取原始样本"
   ]
  },
  {
   "cell_type": "raw",
   "metadata": {},
   "source": [
    "df = pd.read_csv('../../dataset/stock/prices.csv')\n",
    "df.sort_values('date',ascending=True,inplace=True)\n",
    "df['date'] = pd.to_datetime(df['date'])\n",
    "df['date'] = df['date'].apply(lambda x: x.strftime('%Y-%m-%d'))\n",
    "df.sort_values('date',ascending=True,inplace=True)\n",
    "df.reset_index(inplace=True)\n",
    "print(\"样本时间范围：\",df['date'].min(),df['date'].max())\n",
    "print(\"样本公司数量：\",len(df['symbol'].unique()))"
   ]
  },
  {
   "cell_type": "markdown",
   "metadata": {},
   "source": [
    "# 转换为演示数据格式"
   ]
  },
  {
   "cell_type": "raw",
   "metadata": {},
   "source": [
    "df1 = df.groupby('date').mean()\n",
    "df1.reset_index( inplace = True )\n",
    "count = []\n",
    "for dt in df1['date']:\n",
    "    count1 = len(df[df['date'] == dt]['symbol'].unique())\n",
    "    count.append(count1)\n",
    "    \n",
    "df1['date'] = pd.to_datetime(df1['date'])\n",
    "df1['week'] = df1['date'].dt.dayofweek\n",
    "\n",
    "df1['companies'] = pd.Series(count)\n",
    "\n",
    "listBins = np.linspace(df1['open'].min(),df1['open'].max(),10)\n",
    "df1['range_open'] = pd.cut(df1['open'], bins=listBins,include_lowest=True)\n",
    "\n",
    "listBins = np.linspace(df1['close'].min(),df1['close'].max(),10)\n",
    "df1['range_close'] = pd.cut(df1['close'], bins=listBins,include_lowest=True)\n",
    "\n",
    "listBins = np.linspace(df1['low'].min(),df1['low'].max(),10)\n",
    "df1['range_low'] = pd.cut(df1['low'], bins=listBins,include_lowest=True)\n",
    "\n",
    "listBins = np.linspace(df1['high'].min(),df1['high'].max(),10)\n",
    "df1['range_high'] = pd.cut(df1['high'], bins=listBins,include_lowest=True)\n",
    "\n",
    "listBins = np.linspace(df1['volume'].min(),df1['volume'].max(),10)\n",
    "df1['range_volume'] = pd.cut(df1['volume'], bins=listBins,include_lowest=True)\n",
    "\n",
    "df1.to_csv(\"../../dataset/stock/foc-price.csv\",index=False,encoding='utf-8')"
   ]
  },
  {
   "cell_type": "markdown",
   "metadata": {},
   "source": [
    "# 观察变量的变化趋势"
   ]
  },
  {
   "cell_type": "code",
   "execution_count": null,
   "metadata": {},
   "outputs": [],
   "source": [
    "df = pd.read_csv('./dataset/stock/foc-price.csv') #读取样本\n",
    "plt.ticklabel_format(style='plain')   #关闭坐标轴的科学计数法\n",
    "sns.lineplot(x=df.index, y=\"volume\",data=df)\n",
    "plt.title(\"趋势图：日平均交易额\")\n",
    "plt.show()"
   ]
  },
  {
   "cell_type": "raw",
   "metadata": {},
   "source": [
    "观察前90天数据在周几交易量的变化"
   ]
  },
  {
   "cell_type": "code",
   "execution_count": null,
   "metadata": {},
   "outputs": [],
   "source": [
    "df3 = df.head(90) \n",
    "plt.ticklabel_format(style='plain')\n",
    "sns.lineplot(x=df3.index, y=\"volume\",hue='week',data=df3)\n",
    "plt.title(\"趋势图：周天平均交易额 (%s-%s)\"%(df3['date'].min(),df3['date'].max()))"
   ]
  },
  {
   "cell_type": "markdown",
   "metadata": {},
   "source": [
    "# 观察变量出现次数"
   ]
  },
  {
   "cell_type": "code",
   "execution_count": null,
   "metadata": {},
   "outputs": [],
   "source": [
    "df = pd.read_csv('./dataset/stock/foc-price.csv') #读取样本\n",
    "sns.countplot(x=\"week\", data=df)\n",
    "plt.title(\"频次图：周天样本数据\")"
   ]
  },
  {
   "cell_type": "markdown",
   "metadata": {},
   "source": [
    "# 观察变量的分布"
   ]
  },
  {
   "cell_type": "raw",
   "metadata": {},
   "source": [
    "横坐标：开盘价，纵坐标：日均交易额，颜色：参与交易的公司数量"
   ]
  },
  {
   "cell_type": "code",
   "execution_count": null,
   "metadata": {},
   "outputs": [],
   "source": [
    "df = pd.read_csv('./dataset/stock/foc-price.csv') #读取样本\n",
    "plt.ticklabel_format(style='plain') #关闭科学计数法\n",
    "sns.scatterplot(x=\"open\", y='volume',hue='companies',data=df)\n",
    "plt.title(\"散点分布图：周天样本数据\")"
   ]
  },
  {
   "cell_type": "markdown",
   "metadata": {},
   "source": [
    "# 观察不同区间的变量分布"
   ]
  },
  {
   "cell_type": "raw",
   "metadata": {},
   "source": [
    "交易量的分布区间"
   ]
  },
  {
   "cell_type": "code",
   "execution_count": null,
   "metadata": {},
   "outputs": [],
   "source": [
    "df = pd.read_csv('./dataset/stock/foc-price.csv') #读取样本\n",
    "plt.ticklabel_format(style='plain')#关闭科学计数法\n",
    "sns.distplot(df['volume'],bins=10,kde = False)"
   ]
  },
  {
   "cell_type": "markdown",
   "metadata": {},
   "source": [
    "# 观察不同类别的变量变化趋势"
   ]
  },
  {
   "cell_type": "raw",
   "metadata": {},
   "source": [
    "透视表\n",
    "行：开盘价区间\n",
    "列：星期几\n",
    "值：日均交易额"
   ]
  },
  {
   "cell_type": "code",
   "execution_count": null,
   "metadata": {},
   "outputs": [],
   "source": [
    "df = pd.read_csv('./dataset/stock/foc-price.csv') #读取样本\n",
    "plt.ticklabel_format(style='plain')#关闭科学计数法\n",
    "pt = df.pivot_table(index='range_open', columns='week', values=['volume'],aggfunc=np.mean)\n",
    "pt"
   ]
  },
  {
   "cell_type": "raw",
   "metadata": {},
   "source": [
    "热力图（特征相关系数）"
   ]
  },
  {
   "cell_type": "code",
   "execution_count": null,
   "metadata": {},
   "outputs": [],
   "source": [
    "#plt.style.use({'figure.figsize':(12, 6)})\n",
    "plt.ticklabel_format(style='plain',axis='both')\n",
    "cmap = sns.cubehelix_palette(start = 1, rot = 3, gamma=0.8, as_cmap = True)\n",
    "pt = df.corr()\n",
    "sns.heatmap(pt, cmap = cmap, linewidths = 0.05,annot=True, fmt=\"0.4f\")"
   ]
  },
  {
   "cell_type": "raw",
   "metadata": {},
   "source": [
    "分箱图"
   ]
  },
  {
   "cell_type": "code",
   "execution_count": null,
   "metadata": {},
   "outputs": [],
   "source": [
    "df = pd.read_csv(\"./dataset/bmi/500_Person_Gender_Height_Weight_Index.csv\")\n",
    "df = df.rename(columns={'Gender':'性别','Height':'身高','Weight':'体重','Index':'等级'})\n",
    "sns.boxplot(y=df[\"体重\"],x=df['等级'])"
   ]
  },
  {
   "cell_type": "code",
   "execution_count": null,
   "metadata": {},
   "outputs": [],
   "source": []
  }
 ],
 "metadata": {
  "kernelspec": {
   "display_name": "Python 3",
   "language": "python",
   "name": "python3"
  },
  "language_info": {
   "codemirror_mode": {
    "name": "ipython",
    "version": 3
   },
   "file_extension": ".py",
   "mimetype": "text/x-python",
   "name": "python",
   "nbconvert_exporter": "python",
   "pygments_lexer": "ipython3",
   "version": "3.7.9"
  }
 },
 "nbformat": 4,
 "nbformat_minor": 4
}
