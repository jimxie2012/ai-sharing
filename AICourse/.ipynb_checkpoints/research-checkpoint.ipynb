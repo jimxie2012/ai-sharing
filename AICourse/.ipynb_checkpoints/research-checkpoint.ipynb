{
 "cells": [
  {
   "cell_type": "code",
   "execution_count": 2,
   "metadata": {},
   "outputs": [],
   "source": [
    "import pandas as pd\n",
    "import json"
   ]
  },
  {
   "cell_type": "code",
   "execution_count": 3,
   "metadata": {},
   "outputs": [],
   "source": [
    "def LoadData(license,security,is6):\n",
    "    df = pd.read_csv(license)\n",
    "    df1=df[['Component name','Component version name','Component policy status','License Risk']]\n",
    "    if is6:\n",
    "        df2 = df1\n",
    "    else:\n",
    "        df2 = df1[df1['Component policy status']=='In Violation']\n",
    "    df2.reset_index(inplace=True)\n",
    "    g_3th_list = {}\n",
    "    for name,version in zip(df2['Component name'],df2['Component version name']):\n",
    "        id = \"%s-%s\"%(name,version)\n",
    "        g_3th_list[id] = (name,version)\n",
    "    if is6:\n",
    "        df_license = df2\n",
    "    else:\n",
    "        df_license = df2[df2['License Risk']!='OK']\n",
    "    df3 = pd.read_csv(security)\n",
    "    df4= df3[['Component name','Component version name','Security Risk','Overall score']]\n",
    "    list1 = []\n",
    "    for name,version,risk,score in zip(df4['Component name'],df4['Component version name'],df4['Security Risk'],df4['Overall score']):\n",
    "        id = \"%s-%s\"%(name,version)\n",
    "        #if id not in g_3th_list:\n",
    "        #    continue\n",
    "        tmp = {}\n",
    "        tmp['id']=id\n",
    "        tmp['name']=name\n",
    "        tmp['version']=version\n",
    "        tmp['risk']=risk\n",
    "        tmp['score']=score\n",
    "        #if score > 7:\n",
    "        list1.append(tmp)\n",
    "    df_security = pd.DataFrame(list1)\n",
    "    return df_license,df_security"
   ]
  },
  {
   "cell_type": "code",
   "execution_count": 4,
   "metadata": {},
   "outputs": [
    {
     "data": {
      "text/plain": [
       "51"
      ]
     },
     "execution_count": 4,
     "metadata": {},
     "output_type": "execute_result"
    }
   ],
   "source": [
    "df_lic_56,df_sec_56 = LoadData(\"./data/raw-56-60/ce56.csv\",\"./data/raw-56-60/sec56.csv\",False)\n",
    "df_lic_60,df_sec_60 = LoadData(\"./data/raw-56-60/ce60.csv\",\"./data/raw-56-60/sec60.csv\",True)\n",
    "len(df_lic_56['Component name'].unique())"
   ]
  },
  {
   "cell_type": "code",
   "execution_count": 4,
   "metadata": {},
   "outputs": [
    {
     "name": "stdout",
     "output_type": "stream",
     "text": [
      "license\n",
      "{\n",
      "    \"License risk total\": 57,\n",
      "    \"License risk fixed in 6.0\": 30,\n",
      "    \"License risk left\": 27,\n",
      "    \"License risk left/total\": \"0.47\"\n",
      "}\n"
     ]
    }
   ],
   "source": [
    "result = {}\n",
    "license = {}\n",
    "license['total'] = 0\n",
    "license['upgrade'] = {}\n",
    "license['same'] = 0\n",
    "license['diff'] = 0\n",
    "for c1,v1 in zip(df_lic_56['Component name'],df_lic_56['Component version name']):\n",
    "    isFound = False\n",
    "    for c2,v2 in zip(df_lic_60['Component name'],df_lic_60['Component version name']):\n",
    "        if c1 == c2:\n",
    "            if (v1 != v2):\n",
    "                id = \"%s-%s->%s-%s\"%(c1,v1,c2,v2)\n",
    "                if not id in license['upgrade'].keys():\n",
    "                    license['upgrade'][id] = (c1,v1,c2,v2)\n",
    "            license['same'] = license['same'] + 1\n",
    "            license['total'] = license['total'] +1\n",
    "            isFound = True\n",
    "            break\n",
    "    if not isFound:\n",
    "        license['diff'] = license['diff'] + 1\n",
    "        license['total'] = license['total'] +1\n",
    "print(\"license\")\n",
    "result['License risk total'] = license['total']\n",
    "result['License risk fixed in 6.0'] = license['same']\n",
    "#result['License risk rpm changed in 6.0'] = len(license['upgrade'].keys())\n",
    "result['License risk left'] = license['diff']\n",
    "result['License risk left/total'] = \"%0.2f\"%(license['diff']/license['total'])\n",
    "print(json.dumps(result,indent=4))"
   ]
  },
  {
   "cell_type": "code",
   "execution_count": 5,
   "metadata": {},
   "outputs": [
    {
     "name": "stdout",
     "output_type": "stream",
     "text": [
      "{\n",
      "    \"License risk total\": 57,\n",
      "    \"License risk fixed in 6.0\": 30,\n",
      "    \"License risk left\": 27,\n",
      "    \"License risk left/total\": \"0.47\",\n",
      "    \"Security risk total\": 2902,\n",
      "    \"Security risk fixed in 6.0\": 2172,\n",
      "    \"Security risk left\": 753,\n",
      "    \"Security risk left/total\": \"0.26\"\n",
      "}\n"
     ]
    }
   ],
   "source": [
    "security = {}\n",
    "security['total'] = 0\n",
    "security['upgrade'] = {}\n",
    "security['same'] = 0\n",
    "security['diff'] = 0\n",
    "for c1,v1 in zip(df_sec_56['name'],df_sec_56['version']):\n",
    "    isFound = False\n",
    "    for c2,v2 in zip(df_sec_60['name'],df_sec_60['version']):\n",
    "        if c1 == c2:\n",
    "            if (v1 != v2):\n",
    "                id = \"%s-%s->%s-%s\"%(c1,v1,c2,v2)\n",
    "                if not id in security['upgrade'].keys():\n",
    "                    security['upgrade'][id] = (c1,v1,c2,v2)\n",
    "            security['same'] = security['same'] + 1\n",
    "            security['total'] = security['total'] +1\n",
    "            isFound = True\n",
    "            break\n",
    "    if not isFound:\n",
    "        security['diff'] = security['diff'] + 1\n",
    "        security['total'] = security['total'] +1\n",
    "        result['Security risk total'] = security['total']\n",
    "result['Security risk fixed in 6.0'] = security['same']\n",
    "result['Security risk left'] = security['diff']\n",
    "result['Security risk left/total'] = \"%0.2f\"%(security['diff']/security['total'])\n",
    "print(json.dumps(result,indent=4))"
   ]
  },
  {
   "cell_type": "code",
   "execution_count": 6,
   "metadata": {},
   "outputs": [],
   "source": [
    "df_result = pd.DataFrame([result])\n",
    "t = df_result.T\n",
    "t.rename(columns={0:\"count/percent\"},inplace=True)\n",
    "t.to_html(\"./out/raw-56-60/summary.html\")\n",
    "df_upgrade = pd.DataFrame(license['upgrade'].keys())\n",
    "df_upgrade.rename(columns={0:\"upgrade\"},inplace=True)\n",
    "df_upgrade['risk'] = 'license risk'\n",
    "for i in security['upgrade'].keys():\n",
    "    tmp={}\n",
    "    tmp[\"risk\"]=\"security risk\"\n",
    "    tmp['upgrade'] = i\n",
    "    df_upgrade = df_upgrade.append(tmp,ignore_index=True)\n",
    "df_upgrade.to_html(\"./out/raw-56-60/upgrade.html\")"
   ]
  },
  {
   "cell_type": "code",
   "execution_count": 7,
   "metadata": {},
   "outputs": [],
   "source": [
    "def ReadSource(file):\n",
    "    df = pd.read_csv(file)\n",
    "    rpm = {}\n",
    "    for name,version,path in zip(df['Component name'],df['Component version name'],df['Path']):\n",
    "        id = \"%s-%s\"%(name,version)\n",
    "        if path.endswith(\".rpm\"):\n",
    "            rpm[id] = (name,version,path)\n",
    "    return rpm"
   ]
  },
  {
   "cell_type": "code",
   "execution_count": 8,
   "metadata": {},
   "outputs": [],
   "source": [
    "dict_source_56 = ReadSource(\"./data/raw-56-60/source56.csv\")\n",
    "dict_source_60 = ReadSource(\"./data/raw-56-60/source60.csv\")"
   ]
  },
  {
   "cell_type": "code",
   "execution_count": 9,
   "metadata": {},
   "outputs": [],
   "source": [
    "def get_3part(df_lic,df_sec,is60):\n",
    "    df_3part = pd.DataFrame()\n",
    "    for c1,v1 in zip(df_lic['Component name'],df_lic['Component version name']):\n",
    "        id = \"%s-%s\"%(c1,v1)\n",
    "        tmp = {}\n",
    "        tmp['name'] = c1\n",
    "        tmp['version'] = v1\n",
    "        tmp['path'] = None\n",
    "        tmp['type'] = 'license'\n",
    "        if not is60:\n",
    "            if id in dict_source_56:\n",
    "                tmp['path'] =dict_source_56[id][2]\n",
    "        else:\n",
    "            if id in dict_source_60:\n",
    "                tmp['path'] =dict_source_60[id][2]\n",
    "        df_3part = df_3part.append(tmp,ignore_index=True)\n",
    "    for c1,v1 in zip(df_sec['name'],df_sec['version']):\n",
    "        id = \"%s-%s\"%(c1,v1)\n",
    "        tmp = {}\n",
    "        tmp['name'] = c1\n",
    "        tmp['version'] = v1\n",
    "        tmp['path'] = None\n",
    "        tmp['type'] = 'security'\n",
    "        if not is60:\n",
    "            if id in dict_source_56:\n",
    "                tmp['path'] =dict_source_56[id][2]\n",
    "        else:\n",
    "            if id in dict_source_60:\n",
    "                tmp['path'] =dict_source_60[id][2]\n",
    "        df_3part = df_3part.append(tmp,ignore_index=True)\n",
    "    return df_3part"
   ]
  },
  {
   "cell_type": "code",
   "execution_count": null,
   "metadata": {},
   "outputs": [],
   "source": [
    "df_3part_56 = get_3part(df_lic_56,df_sec_56,False)\n",
    "df_3part_60 = get_3part(df_lic_60,df_sec_60,True)"
   ]
  },
  {
   "cell_type": "code",
   "execution_count": null,
   "metadata": {},
   "outputs": [],
   "source": [
    "g_60_rpm = {}\n",
    "for keys,v1 in df_3part_60.groupby([\"name\",\"version\",\"path\"]):\n",
    "    name = keys[0]\n",
    "    version = keys[1]\n",
    "    path = keys[2]\n",
    "    count = v1.count()\n",
    "    id = \"%s\"%(name)\n",
    "    g_60_rpm[id]=(version,version,path)"
   ]
  },
  {
   "cell_type": "code",
   "execution_count": null,
   "metadata": {},
   "outputs": [],
   "source": [
    "g_56_rpm_update = []\n",
    "for keys,v1 in df_3part_56.groupby([\"name\",\"version\",\"path\"]):\n",
    "    name = keys[0]\n",
    "    version = keys[1]\n",
    "    path = keys[2]\n",
    "    count = v1.count()\n",
    "    if name in g_60_rpm:\n",
    "        v6 = g_60_rpm[name][1]\n",
    "        p6 = g_60_rpm[name][2]\n",
    "        if v6 != version:\n",
    "            tmp = {}\n",
    "            tmp['name'] = name\n",
    "            tmp['v56'] = version\n",
    "            tmp['v60'] = v6\n",
    "            tmp['r56'] = path\n",
    "            tmp['r60'] = p6\n",
    "            g_56_rpm_update.append(tmp)\n",
    "df_56_rpm_update = pd.DataFrame(g_56_rpm_update)\n",
    "df_56_rpm_update.to_html(\"./out/raw-56-60/rpm-need-change.html\")"
   ]
  },
  {
   "cell_type": "code",
   "execution_count": null,
   "metadata": {},
   "outputs": [],
   "source": [
    "df_3part_60.groupby(\"name\").count().to_html(\"./out/raw-56-60/tmp.html\")"
   ]
  },
  {
   "cell_type": "code",
   "execution_count": null,
   "metadata": {},
   "outputs": [],
   "source": []
  }
 ],
 "metadata": {
  "kernelspec": {
   "display_name": "Python 3",
   "language": "python",
   "name": "python3"
  },
  "language_info": {
   "codemirror_mode": {
    "name": "ipython",
    "version": 3
   },
   "file_extension": ".py",
   "mimetype": "text/x-python",
   "name": "python",
   "nbconvert_exporter": "python",
   "pygments_lexer": "ipython3",
   "version": "3.7.9"
  }
 },
 "nbformat": 4,
 "nbformat_minor": 4
}
