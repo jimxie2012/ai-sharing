{
 "cells": [
  {
   "cell_type": "code",
   "execution_count": 1,
   "id": "c74403f6",
   "metadata": {},
   "outputs": [],
   "source": [
    "import pandas as pd"
   ]
  },
  {
   "cell_type": "code",
   "execution_count": 148,
   "id": "28e927f4",
   "metadata": {},
   "outputs": [],
   "source": [
    "'''\n",
    "CFOCDiff（差分处理类）\n",
    "功能：实现序列数据的差分与还原\n",
    "使用示例：\n",
    "1. 创建演示序列：\n",
    "   raw_data = pd.Series([2,4,3,5,6,7,4,5,6,3,2,4], index=pd.date_range(start='2000', periods=12, freq='a'))\n",
    "2. 创建CFOCDiff对象，参数为原始数据\n",
    "   diff = CFOCDiff(raw_data)\n",
    "3. 计算差分，参数为差分的阶数\n",
    "   diff_data = diff.get_diff(3) #进行3阶差分\n",
    "4. 差分还原，参数为差分后的数据\n",
    "   recover_data = diff.get_recover(diff_data)\n",
    "'''\n",
    "class CFOCDiff:\n",
    "    \n",
    "    def __init__(self,raw_s):\n",
    "        self.m_first_index = []\n",
    "        self.m_first_values = []\n",
    "        self.m_raw_s = raw_s\n",
    "        \n",
    "    def get_diff(self,lag):\n",
    "        diff_s = self.m_raw_s        \n",
    "        diff_times = lag\n",
    "        self.m_first_index = []\n",
    "        self.m_first_values = []\n",
    "        for i in range(1, diff_times+1):\n",
    "            self.m_first_values.append(pd.Series([diff_s[0]]))\n",
    "            self.m_first_index.append(diff_s.index[0])\n",
    "            diff_s = diff_s.diff(1).dropna()\n",
    "        return diff_s\n",
    "    \n",
    "    def get_recover(self,diff_s):\n",
    "        time_series_restored = diff_s\n",
    "        for first in reversed(self.m_first_values):\n",
    "            time_series_restored = first.append(time_series_restored).cumsum()\n",
    "        index_list = []\n",
    "        for index in self.m_first_index:\n",
    "            index_list.append(index)\n",
    "        index_list.extend(time_series_restored.index[3:])\n",
    "        ret = pd.Series(time_series_restored.values,index=index_list)\n",
    "        return ret        "
   ]
  },
  {
   "cell_type": "markdown",
   "id": "c1f52ef2",
   "metadata": {},
   "source": [
    "1. 创建演示序列"
   ]
  },
  {
   "cell_type": "code",
   "execution_count": 149,
   "id": "039f0ff9",
   "metadata": {},
   "outputs": [],
   "source": [
    "raw_data = pd.Series([2,4,3,5,6,7,4,5,6,3,2,4], index=pd.date_range(start='2000', periods=12, freq='a'))"
   ]
  },
  {
   "cell_type": "markdown",
   "id": "ec2fc214",
   "metadata": {},
   "source": [
    "2.创建CFOCDiff对象，参数为原始序列"
   ]
  },
  {
   "cell_type": "code",
   "execution_count": 150,
   "id": "a48d5063",
   "metadata": {},
   "outputs": [],
   "source": [
    "diff = CFOCDiff(raw_data)"
   ]
  },
  {
   "cell_type": "markdown",
   "id": "842f9940",
   "metadata": {},
   "source": [
    "3. 计算差分，参数为差分的阶数"
   ]
  },
  {
   "cell_type": "code",
   "execution_count": 151,
   "id": "80d2f52f",
   "metadata": {},
   "outputs": [],
   "source": [
    "diff_data = diff.get_diff(3) #进行3阶差分"
   ]
  },
  {
   "cell_type": "markdown",
   "id": "61f126c7",
   "metadata": {},
   "source": [
    "4. 差分还原，参数为差分后的数据"
   ]
  },
  {
   "cell_type": "code",
   "execution_count": 152,
   "id": "086cdcec",
   "metadata": {},
   "outputs": [],
   "source": [
    "recover_data = diff.get_recover(diff_data)"
   ]
  },
  {
   "cell_type": "markdown",
   "id": "24c3f84e",
   "metadata": {},
   "source": [
    "5. 显示结果"
   ]
  },
  {
   "cell_type": "code",
   "execution_count": 154,
   "id": "d48a726b",
   "metadata": {},
   "outputs": [
    {
     "name": "stdout",
     "output_type": "stream",
     "text": [
      "原始数据\n",
      " 2000-12-31    2\n",
      "2001-12-31    4\n",
      "2002-12-31    3\n",
      "2003-12-31    5\n",
      "2004-12-31    6\n",
      "2005-12-31    7\n",
      "2006-12-31    4\n",
      "2007-12-31    5\n",
      "2008-12-31    6\n",
      "2009-12-31    3\n",
      "2010-12-31    2\n",
      "2011-12-31    4\n",
      "Freq: A-DEC, dtype: int64\n",
      "差分后数据\n",
      " 2003-12-31    6.0\n",
      "2004-12-31   -4.0\n",
      "2005-12-31    1.0\n",
      "2006-12-31   -4.0\n",
      "2007-12-31    8.0\n",
      "2008-12-31   -4.0\n",
      "2009-12-31   -4.0\n",
      "2010-12-31    6.0\n",
      "2011-12-31    1.0\n",
      "Freq: A-DEC, dtype: float64\n",
      "还原后数据\n",
      " 2000-12-31    2.0\n",
      "2001-12-31    4.0\n",
      "2002-12-31    3.0\n",
      "2003-12-31    5.0\n",
      "2004-12-31    6.0\n",
      "2005-12-31    7.0\n",
      "2006-12-31    4.0\n",
      "2007-12-31    5.0\n",
      "2008-12-31    6.0\n",
      "2009-12-31    3.0\n",
      "2010-12-31    2.0\n",
      "2011-12-31    4.0\n",
      "dtype: float64\n"
     ]
    }
   ],
   "source": [
    "print(\"原始数据\\n\",raw_data)\n",
    "print(\"差分后数据\\n\",diff_data)\n",
    "print(\"还原后数据\\n\",recover_data)"
   ]
  },
  {
   "cell_type": "code",
   "execution_count": null,
   "id": "12e82c20",
   "metadata": {},
   "outputs": [],
   "source": []
  }
 ],
 "metadata": {
  "kernelspec": {
   "display_name": "Python 3",
   "language": "python",
   "name": "python3"
  },
  "language_info": {
   "codemirror_mode": {
    "name": "ipython",
    "version": 3
   },
   "file_extension": ".py",
   "mimetype": "text/x-python",
   "name": "python",
   "nbconvert_exporter": "python",
   "pygments_lexer": "ipython3",
   "version": "3.7.9"
  }
 },
 "nbformat": 4,
 "nbformat_minor": 5
}
