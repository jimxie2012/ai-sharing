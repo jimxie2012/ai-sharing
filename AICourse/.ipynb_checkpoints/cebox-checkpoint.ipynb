{
 "cells": [
  {
   "cell_type": "code",
   "execution_count": 55,
   "metadata": {},
   "outputs": [],
   "source": [
    "import pandas as pd\n",
    "import matplotlib.pyplot as plt\n",
    "import numpy as np\n",
    "import json,os,math\n",
    "from sklearn.model_selection import train_test_split\n",
    "from statsmodels.tsa.arima_model import ARMA, ARIMA\n",
    "import seaborn as sns\n",
    "from warnings import filterwarnings\n",
    "filterwarnings('ignore')\n",
    "path = \"./BoxStatus/JP/\""
   ]
  },
  {
   "cell_type": "raw",
   "metadata": {},
   "source": [
    "df = pd.DataFrame()\n",
    "for file in os.listdir( path ):\n",
    "    fname = file.replace(\"CEStatusReport_JP_\",\"\")\n",
    "    fname = fname.replace(\".csv\",\"\")\n",
    "    if fname in ['2021_01_20_1','.DS_Store']:\n",
    "        continue\n",
    "    df1 = pd.read_csv(path+file)\n",
    "    fname = fname.replace(\"_\",\"-\")\n",
    "    print(fname)\n",
    "    df2 = df1[['MSP','Version','Status']]\n",
    "    df2['dt'] = fname\n",
    "    df = df.append(df2,ignore_index=True)\n",
    "df.to_csv(path+\"./all.csv\")"
   ]
  },
  {
   "cell_type": "code",
   "execution_count": 2,
   "metadata": {},
   "outputs": [],
   "source": [
    "df = pd.read_csv(path+\"./all.csv\")"
   ]
  },
  {
   "cell_type": "code",
   "execution_count": 3,
   "metadata": {},
   "outputs": [],
   "source": [
    "grouped = df.groupby(['dt'])"
   ]
  },
  {
   "cell_type": "code",
   "execution_count": 4,
   "metadata": {},
   "outputs": [],
   "source": [
    "df_temp = grouped.count().reset_index()[['dt','Unnamed: 0']]\n",
    "df_temp.rename(columns={\"Unnamed: 0\":\"Count\"},inplace=True)"
   ]
  },
  {
   "cell_type": "code",
   "execution_count": 5,
   "metadata": {},
   "outputs": [],
   "source": [
    "df_data = df_temp['Count']\n",
    "df_dt = df_temp['dt']"
   ]
  },
  {
   "cell_type": "code",
   "execution_count": 6,
   "metadata": {},
   "outputs": [],
   "source": [
    "'''\n",
    "time_series = pd.Series([2,4,3,5,6,7,4,5,6,3,2,4], index=pd.date_range(start='2000', periods=12, freq='a'))\n",
    "test = CFOCDifference()\n",
    "diff = test.get_diff(time_series,1)\n",
    "raw = test.get_raw(diff)\n",
    "'''\n",
    "class CFOCDifference:\n",
    "    \n",
    "    def __init__(self):\n",
    "        self.m_first_values = []\n",
    "        \n",
    "    def get_diff(self,raw_s,degree):\n",
    "        diff_s = raw_s        \n",
    "        diff_times = degree\n",
    "        self.m_first_values = []\n",
    "        for i in range(1, diff_times+1):\n",
    "            self.m_first_values.append(pd.Series([diff_s[0]]))\n",
    "            diff_s = diff_s.diff(1).dropna()\n",
    "            diff_s.reset_index(inplace=True,drop=True)\n",
    "        return diff_s\n",
    "    \n",
    "    def get_raw(self,diff_s):\n",
    "        time_series_restored = diff_s\n",
    "        for first in reversed(self.m_first_values):\n",
    "            time_series_restored = first.append(time_series_restored).cumsum()\n",
    "        return time_series_restored"
   ]
  },
  {
   "cell_type": "code",
   "execution_count": 56,
   "metadata": {},
   "outputs": [],
   "source": [
    "class CFOCArima:\n",
    "    \n",
    "    def __init__(self,raw_s):\n",
    "        self.m_raw_s = raw_s            \n",
    "        \n",
    "    def get_error(self,pred,raw):\n",
    "        return np.sqrt(sum((pred-raw).dropna()**2/raw.size))\n",
    "\n",
    "    def train_once(self,p,q):\n",
    "        try:\n",
    "            model = ARMA(self.m_raw_s,order=(p,q)).fit()\n",
    "            pred_s = model.predict()\n",
    "            error = self.get_error(pred_s,self.m_raw_s)\n",
    "        except:\n",
    "            return None,None,None\n",
    "        return model,pred_s,error\n",
    "    \n",
    "    def train_multipy(self,max_p,max_q):\n",
    "        data = self.m_raw_s\n",
    "        result = pd.DataFrame()\n",
    "        for p in range(max_p):\n",
    "            for q in range(max_q):\n",
    "                model,pred_s,error = self.train_once(p,q)\n",
    "                if error and error != float('inf') and error != np.NaN:\n",
    "                    p_value = p\n",
    "                    q_value = q\n",
    "                    tmp = {}\n",
    "                    tmp['model'] = model\n",
    "                    tmp['pred'] = pred_s\n",
    "                    tmp['error'] = error\n",
    "                    tmp['param_p'] = p\n",
    "                    tmp['param_q'] = q\n",
    "                    result = result.append(tmp,ignore_index=True)\n",
    "        return result\n",
    "    \n",
    "    def show_result(self,result,index=None):\n",
    "        if not index:\n",
    "            best_index = result['error'].idxmin()\n",
    "        else:\n",
    "            best_index = index\n",
    "        pred = result['pred'][best_index]\n",
    "        error = result['error'][best_index]\n",
    "        p = result['param_p'][best_index]\n",
    "        q = result['param_q'][best_index]\n",
    "\n",
    "        plt.figure(facecolor='white')\n",
    "        pred.plot(color='blue', label='Predict')\n",
    "        self.m_raw_s.plot(color='red', label='Original')\n",
    "        plt.legend(loc='best')\n",
    "        error = self.get_error(pred,self.m_raw_s)\n",
    "        plt.title('RMSE: %.4f(p=%d,q=%d)'%(error,p,q))\n",
    "        plt.show()"
   ]
  },
  {
   "cell_type": "code",
   "execution_count": 107,
   "metadata": {},
   "outputs": [],
   "source": [
    "diff = CFOCDifference()\n",
    "diff_times = 3\n",
    "df_test = pd.Series([1,2,3,4,5,6,7,8.5,9,10,11,12,13,14,15]) \n",
    "df_test = df_data.tail(199)\n",
    "df_test = df_test.reset_index(drop=True)\n",
    "train_data = diff.get_diff(df_test,diff_times+1)\n",
    "train_data = train_data.astype(\"float64\")\n",
    "verify_count = 2\n",
    "df_verify = train_data.tail(verify_count)\n",
    "train_data.drop(train_data.tail(verify_count).index,inplace=True)"
   ]
  },
  {
   "cell_type": "code",
   "execution_count": 108,
   "metadata": {},
   "outputs": [
    {
     "data": {
      "image/png": "[encoded data removed]",
      "text/plain": [
       "<Figure size 432x288 with 1 Axes>"
      ]
     },
     "metadata": {},
     "output_type": "display_data"
    },
    {
     "data": {
      "text/html": [
       "<div>\n",
       "<style scoped>\n",
       "    .dataframe tbody tr th:only-of-type {\n",
       "        vertical-align: middle;\n",
       "    }\n",
       "\n",
       "    .dataframe tbody tr th {\n",
       "        vertical-align: top;\n",
       "    }\n",
       "\n",
       "    .dataframe thead th {\n",
       "        text-align: right;\n",
       "    }\n",
       "</style>\n",
       "<table border=\"1\" class=\"dataframe\">\n",
       "  <thead>\n",
       "    <tr style=\"text-align: right;\">\n",
       "      <th></th>\n",
       "      <th>error</th>\n",
       "      <th>model</th>\n",
       "      <th>param_p</th>\n",
       "      <th>param_q</th>\n",
       "      <th>pred</th>\n",
       "    </tr>\n",
       "  </thead>\n",
       "  <tbody>\n",
       "    <tr>\n",
       "      <th>0</th>\n",
       "      <td>338.166312</td>\n",
       "      <td>&lt;statsmodels.tsa.arima_model.ARMAResultsWrappe...</td>\n",
       "      <td>0.0</td>\n",
       "      <td>0.0</td>\n",
       "      <td>0     -1.958549\n",
       "1     -1.958549\n",
       "2     -1.95854...</td>\n",
       "    </tr>\n",
       "    <tr>\n",
       "      <th>1</th>\n",
       "      <td>189.572528</td>\n",
       "      <td>&lt;statsmodels.tsa.arima_model.ARMAResultsWrappe...</td>\n",
       "      <td>0.0</td>\n",
       "      <td>1.0</td>\n",
       "      <td>0       -0.028729\n",
       "1      264.956906\n",
       "2      135...</td>\n",
       "    </tr>\n",
       "    <tr>\n",
       "      <th>2</th>\n",
       "      <td>119.309395</td>\n",
       "      <td>&lt;statsmodels.tsa.arima_model.ARMAResultsWrappe...</td>\n",
       "      <td>0.0</td>\n",
       "      <td>2.0</td>\n",
       "      <td>0        0.003124\n",
       "1      353.543266\n",
       "2      203...</td>\n",
       "    </tr>\n",
       "    <tr>\n",
       "      <th>3</th>\n",
       "      <td>105.198163</td>\n",
       "      <td>&lt;statsmodels.tsa.arima_model.ARMAResultsWrappe...</td>\n",
       "      <td>0.0</td>\n",
       "      <td>3.0</td>\n",
       "      <td>0        0.000498\n",
       "1      395.659896\n",
       "2      240...</td>\n",
       "    </tr>\n",
       "    <tr>\n",
       "      <th>4</th>\n",
       "      <td>104.881116</td>\n",
       "      <td>&lt;statsmodels.tsa.arima_model.ARMAResultsWrappe...</td>\n",
       "      <td>0.0</td>\n",
       "      <td>4.0</td>\n",
       "      <td>0        0.000599\n",
       "1      386.054148\n",
       "2      236...</td>\n",
       "    </tr>\n",
       "    <tr>\n",
       "      <th>5</th>\n",
       "      <td>217.211149</td>\n",
       "      <td>&lt;statsmodels.tsa.arima_model.ARMAResultsWrappe...</td>\n",
       "      <td>1.0</td>\n",
       "      <td>0.0</td>\n",
       "      <td>0       -0.817810\n",
       "1      407.845274\n",
       "2      -49...</td>\n",
       "    </tr>\n",
       "    <tr>\n",
       "      <th>6</th>\n",
       "      <td>104.480720</td>\n",
       "      <td>&lt;statsmodels.tsa.arima_model.ARMAResultsWrappe...</td>\n",
       "      <td>1.0</td>\n",
       "      <td>3.0</td>\n",
       "      <td>0        0.000432\n",
       "1      375.302341\n",
       "2      226...</td>\n",
       "    </tr>\n",
       "    <tr>\n",
       "      <th>7</th>\n",
       "      <td>188.156467</td>\n",
       "      <td>&lt;statsmodels.tsa.arima_model.ARMAResultsWrappe...</td>\n",
       "      <td>2.0</td>\n",
       "      <td>0.0</td>\n",
       "      <td>0       -0.196812\n",
       "1      410.096620\n",
       "2      198...</td>\n",
       "    </tr>\n",
       "    <tr>\n",
       "      <th>8</th>\n",
       "      <td>104.244581</td>\n",
       "      <td>&lt;statsmodels.tsa.arima_model.ARMAResultsWrappe...</td>\n",
       "      <td>2.0</td>\n",
       "      <td>3.0</td>\n",
       "      <td>0        0.000344\n",
       "1      402.084833\n",
       "2      229...</td>\n",
       "    </tr>\n",
       "    <tr>\n",
       "      <th>9</th>\n",
       "      <td>103.901584</td>\n",
       "      <td>&lt;statsmodels.tsa.arima_model.ARMAResultsWrappe...</td>\n",
       "      <td>2.0</td>\n",
       "      <td>4.0</td>\n",
       "      <td>0        0.000267\n",
       "1      407.807367\n",
       "2      215...</td>\n",
       "    </tr>\n",
       "    <tr>\n",
       "      <th>10</th>\n",
       "      <td>164.015325</td>\n",
       "      <td>&lt;statsmodels.tsa.arima_model.ARMAResultsWrappe...</td>\n",
       "      <td>3.0</td>\n",
       "      <td>0.0</td>\n",
       "      <td>0       -0.177560\n",
       "1      407.879124\n",
       "2      198...</td>\n",
       "    </tr>\n",
       "    <tr>\n",
       "      <th>11</th>\n",
       "      <td>154.948212</td>\n",
       "      <td>&lt;statsmodels.tsa.arima_model.ARMAResultsWrappe...</td>\n",
       "      <td>4.0</td>\n",
       "      <td>0.0</td>\n",
       "      <td>0       -0.094821\n",
       "1      410.251376\n",
       "2      198...</td>\n",
       "    </tr>\n",
       "  </tbody>\n",
       "</table>\n",
       "</div>"
      ],
      "text/plain": [
       "         error                                              model  param_p  \\\n",
       "0   338.166312  <statsmodels.tsa.arima_model.ARMAResultsWrappe...      0.0   \n",
       "1   189.572528  <statsmodels.tsa.arima_model.ARMAResultsWrappe...      0.0   \n",
       "2   119.309395  <statsmodels.tsa.arima_model.ARMAResultsWrappe...      0.0   \n",
       "3   105.198163  <statsmodels.tsa.arima_model.ARMAResultsWrappe...      0.0   \n",
       "4   104.881116  <statsmodels.tsa.arima_model.ARMAResultsWrappe...      0.0   \n",
       "5   217.211149  <statsmodels.tsa.arima_model.ARMAResultsWrappe...      1.0   \n",
       "6   104.480720  <statsmodels.tsa.arima_model.ARMAResultsWrappe...      1.0   \n",
       "7   188.156467  <statsmodels.tsa.arima_model.ARMAResultsWrappe...      2.0   \n",
       "8   104.244581  <statsmodels.tsa.arima_model.ARMAResultsWrappe...      2.0   \n",
       "9   103.901584  <statsmodels.tsa.arima_model.ARMAResultsWrappe...      2.0   \n",
       "10  164.015325  <statsmodels.tsa.arima_model.ARMAResultsWrappe...      3.0   \n",
       "11  154.948212  <statsmodels.tsa.arima_model.ARMAResultsWrappe...      4.0   \n",
       "\n",
       "    param_q                                               pred  \n",
       "0       0.0  0     -1.958549\n",
       "1     -1.958549\n",
       "2     -1.95854...  \n",
       "1       1.0  0       -0.028729\n",
       "1      264.956906\n",
       "2      135...  \n",
       "2       2.0  0        0.003124\n",
       "1      353.543266\n",
       "2      203...  \n",
       "3       3.0  0        0.000498\n",
       "1      395.659896\n",
       "2      240...  \n",
       "4       4.0  0        0.000599\n",
       "1      386.054148\n",
       "2      236...  \n",
       "5       0.0  0       -0.817810\n",
       "1      407.845274\n",
       "2      -49...  \n",
       "6       3.0  0        0.000432\n",
       "1      375.302341\n",
       "2      226...  \n",
       "7       0.0  0       -0.196812\n",
       "1      410.096620\n",
       "2      198...  \n",
       "8       3.0  0        0.000344\n",
       "1      402.084833\n",
       "2      229...  \n",
       "9       4.0  0        0.000267\n",
       "1      407.807367\n",
       "2      215...  \n",
       "10      0.0  0       -0.177560\n",
       "1      407.879124\n",
       "2      198...  \n",
       "11      0.0  0       -0.094821\n",
       "1      410.251376\n",
       "2      198...  "
      ]
     },
     "execution_count": 108,
     "metadata": {},
     "output_type": "execute_result"
    }
   ],
   "source": [
    "#df_train,df_test = train_test_split(train_data,test_size=0.11,shuffle=False)\n",
    "model = CFOCArima(train_data)\n",
    "result = model.train_multipy(5,5)\n",
    "model.show_result(result)\n",
    "result"
   ]
  },
  {
   "cell_type": "code",
   "execution_count": 109,
   "metadata": {},
   "outputs": [
    {
     "name": "stdout",
     "output_type": "stream",
     "text": [
      "9 <statsmodels.tsa.arima_model.ARMAResultsWrapper object at 0x000001C104A21708>\n",
      "-39.0 (array([126.64227196]), array([89.37788023]), array([[-48.53515429, 301.81969822]]))\n",
      "test -39.0 126.64227196247234 -165.642272\n"
     ]
    }
   ],
   "source": [
    "best_index = result['error'].idxmin()\n",
    "print(best_index,result['model'][best_index])\n",
    "predict_ts=result['model'][best_index].forecast()  \n",
    "pred = predict_ts[0][0]\n",
    "if not math.isnan(pred):\n",
    "    real = df_verify.iloc[i]\n",
    "    print(real,predict_ts)\n",
    "    print(\"test\",real,pred,\"%04f\"%(real-pred))"
   ]
  },
  {
   "cell_type": "code",
   "execution_count": null,
   "metadata": {},
   "outputs": [],
   "source": []
  },
  {
   "cell_type": "code",
   "execution_count": null,
   "metadata": {},
   "outputs": [],
   "source": [
    "from statsmodels.graphics.tsaplots import plot_acf, plot_pacf\n",
    "from statsmodels.tsa.stattools import adfuller\n",
    "from statsmodels.stats.diagnostic import acorr_ljungbox\n",
    "from statsmodels.tsa.arima_model import ARMA\n",
    "from statsmodels.tsa.arima_model import ARIMA\n",
    "import warnings\n",
    "warnings.filterwarnings('ignore')"
   ]
  },
  {
   "cell_type": "code",
   "execution_count": null,
   "metadata": {},
   "outputs": [],
   "source": [
    "#ADF Test result同时小于1%、5%、10%\n",
    "#P-value (不变显著性) 接近0。\n",
    "def check_stationarity(timeSeries):\n",
    "    dftest = adfuller(timeSeries)\n",
    "    dfoutput = pd.Series(dftest[0:4], index=['Test Statistic','p-value','#Lags Used','Number of Observations Used'])\n",
    "    for key,value in dftest[4].items():\n",
    "        dfoutput['Critical Value (%s)'%key] = value\n",
    "    del dfoutput['#Lags Used']\n",
    "    del dfoutput['Number of Observations Used']\n",
    "    return dfoutput"
   ]
  },
  {
   "cell_type": "code",
   "execution_count": null,
   "metadata": {},
   "outputs": [],
   "source": [
    "df_test.fillna(0,inplace=True)"
   ]
  },
  {
   "cell_type": "code",
   "execution_count": null,
   "metadata": {},
   "outputs": [],
   "source": [
    "#rol_mean = df_test.rolling(window=7).mean()\n",
    "rol_mean = df_test\n",
    "rol_mean = rol_mean.diff(1)\n",
    "rol_mean.dropna(inplace=True)\n",
    "check_stationarity(rol_mean)\n",
    "#rol_mean[0:-1].plot()"
   ]
  },
  {
   "cell_type": "markdown",
   "metadata": {},
   "source": [
    "plot_acf(df_test,lags=250).show()\n",
    "plot_pacf(df_test,lags=250).show()"
   ]
  },
  {
   "cell_type": "code",
   "execution_count": null,
   "metadata": {},
   "outputs": [],
   "source": [
    "from statsmodels.tsa.seasonal import seasonal_decompose\n",
    "decomposition = seasonal_decompose(df_test, period=7,model=\"additive\")\n",
    "trend = decomposition.trend\n",
    "seasonal = decomposition.seasonal\n",
    "residual = decomposition.resid\n",
    "trend.dropna(inplace=True)\n",
    "seasonal.dropna(inplace=True)\n",
    "residual.dropna(inplace=True)"
   ]
  },
  {
   "cell_type": "code",
   "execution_count": null,
   "metadata": {},
   "outputs": [],
   "source": [
    "trend.plot()"
   ]
  },
  {
   "cell_type": "code",
   "execution_count": null,
   "metadata": {},
   "outputs": [],
   "source": [
    "seasonal.plot()"
   ]
  },
  {
   "cell_type": "code",
   "execution_count": null,
   "metadata": {},
   "outputs": [],
   "source": [
    "residual.plot()"
   ]
  },
  {
   "cell_type": "code",
   "execution_count": null,
   "metadata": {},
   "outputs": [],
   "source": [
    "# 进行差分\n",
    "diff=series.diff(steps)\n",
    "diff=diff.dropna()\n",
    " \n",
    "# 差分还原\n",
    "diff_shift=sub_data.shift(7)\n",
    "diff_recover=predict_data.add(diff_shift)"
   ]
  },
  {
   "cell_type": "code",
   "execution_count": null,
   "metadata": {
    "scrolled": true
   },
   "outputs": [],
   "source": []
  },
  {
   "cell_type": "code",
   "execution_count": null,
   "metadata": {},
   "outputs": [],
   "source": []
  },
  {
   "cell_type": "code",
   "execution_count": null,
   "metadata": {},
   "outputs": [],
   "source": []
  }
 ],
 "metadata": {
  "kernelspec": {
   "display_name": "Python 3",
   "language": "python",
   "name": "python3"
  },
  "language_info": {
   "codemirror_mode": {
    "name": "ipython",
    "version": 3
   },
   "file_extension": ".py",
   "mimetype": "text/x-python",
   "name": "python",
   "nbconvert_exporter": "python",
   "pygments_lexer": "ipython3",
   "version": "3.7.9"
  }
 },
 "nbformat": 4,
 "nbformat_minor": 4
}
