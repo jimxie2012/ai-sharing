{
 "cells": [
  {
   "cell_type": "code",
   "execution_count": 7,
   "id": "informal-jackson",
   "metadata": {},
   "outputs": [],
   "source": [
    "import os\n",
    "import re\n",
    "import cv2 # opencv library\n",
    "import numpy as np\n",
    "from os.path import isfile, join\n",
    "import matplotlib.pyplot as plt"
   ]
  },
  {
   "cell_type": "code",
   "execution_count": 8,
   "id": "devoted-channel",
   "metadata": {},
   "outputs": [],
   "source": [
    "# specify video name\n",
    "pathOut = 'video.mp4'\n",
    "pathIn = \"./frames/\"\n",
    "# specify frames per second\n",
    "fps = 14.0"
   ]
  },
  {
   "cell_type": "code",
   "execution_count": 11,
   "id": "falling-elimination",
   "metadata": {},
   "outputs": [],
   "source": [
    "frame_array = []\n",
    "files = [f for f in os.listdir(pathIn) if isfile(join(pathIn, f))]"
   ]
  },
  {
   "cell_type": "code",
   "execution_count": 12,
   "id": "improved-stationery",
   "metadata": {},
   "outputs": [],
   "source": [
    "files.sort(key=lambda f: int(re.sub('\\D', '', f)))\n",
    "\n",
    "for i in range(len(files)):\n",
    "    filename=pathIn + files[i]\n",
    "    \n",
    "    #read frames\n",
    "    img = cv2.imread(filename)\n",
    "    height, width, layers = img.shape\n",
    "    size = (width,height)\n",
    "    \n",
    "    #inserting the frames into an image array\n",
    "    frame_array.append(img)"
   ]
  },
  {
   "cell_type": "code",
   "execution_count": 13,
   "id": "brief-strategy",
   "metadata": {},
   "outputs": [],
   "source": [
    "files.sort(key=lambda f: int(re.sub('\\D', '', f)))\n",
    "\n",
    "for i in range(len(files)):\n",
    "    filename=pathIn + files[i]\n",
    "    \n",
    "    #read frames\n",
    "    img = cv2.imread(filename)\n",
    "    height, width, layers = img.shape\n",
    "    size = (width,height)\n",
    "    \n",
    "    #inserting the frames into an image array\n",
    "    frame_array.append(img)"
   ]
  },
  {
   "cell_type": "code",
   "execution_count": 14,
   "id": "floral-treasurer",
   "metadata": {},
   "outputs": [],
   "source": [
    "out = cv2.VideoWriter(pathOut,cv2.VideoWriter_fourcc(*'DIVX'), fps, size)\n",
    "\n",
    "for i in range(len(frame_array)):\n",
    "    # writing to a image array\n",
    "    out.write(frame_array[i])\n",
    "\n",
    "out.release()"
   ]
  },
  {
   "cell_type": "code",
   "execution_count": null,
   "id": "emerging-planner",
   "metadata": {},
   "outputs": [],
   "source": []
  }
 ],
 "metadata": {
  "kernelspec": {
   "display_name": "Python 3",
   "language": "python",
   "name": "python3"
  },
  "language_info": {
   "codemirror_mode": {
    "name": "ipython",
    "version": 3
   },
   "file_extension": ".py",
   "mimetype": "text/x-python",
   "name": "python",
   "nbconvert_exporter": "python",
   "pygments_lexer": "ipython3",
   "version": "3.7.9"
  }
 },
 "nbformat": 4,
 "nbformat_minor": 5
}
