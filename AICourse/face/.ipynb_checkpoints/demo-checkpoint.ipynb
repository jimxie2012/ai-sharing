{
 "cells": [
  {
   "cell_type": "markdown",
   "metadata": {},
   "source": [
    "# Demo: Use a model\n",
    "\n",
    "Author: Jim Xie\n",
    "\n",
    "Date: 2020-08-07"
   ]
  },
  {
   "cell_type": "markdown",
   "metadata": {},
   "source": [
    "!pip install scipy==1.1.0"
   ]
  },
  {
   "cell_type": "code",
   "execution_count": null,
   "metadata": {
    "scrolled": true
   },
   "outputs": [],
   "source": [
    "import os,cv2,sys,copy\n",
    "from scipy import misc\n",
    "root_path = \"/Users/jim/Desktop/Sharing/AICourse/face/image/\"\n",
    "os.chdir(root_path+\"../facenet/src/\")\n",
    "sys.path.append(\"./\")\n",
    "from mtcnn import MTCNN\n",
    "from face_align import face_preprocess\n",
    "from warnings import filterwarnings\n",
    "filterwarnings('ignore')\n",
    "from matplotlib import pyplot as plt\n",
    "%matplotlib inline\n",
    "import tensorflow.compat.v1 as tf\n",
    "tf.disable_v2_behavior()\n",
    "import numpy as np\n",
    "import facenet.src.facenet as facenet\n",
    "import align.detect_face"
   ]
  },
  {
   "cell_type": "code",
   "execution_count": null,
   "metadata": {
    "scrolled": true
   },
   "outputs": [],
   "source": [
    "class CCEShare:\n",
    "\n",
    "    def __init__(self,file_name):\n",
    "        self.m_mtcnn = MTCNN(root_path+'../models/mtcnn.pb')\n",
    "        self.m_raw_img = cv2.imread(root_path+file_name+\".jpg\")\n",
    "\n",
    "    def Detect(self):\n",
    "        bbox, scores, landmarks = self.m_mtcnn.detect(self.m_raw_img)\n",
    "        return bbox.astype('int32'),landmarks.astype('int32')\n",
    "\n",
    "    def DrawBox(self,bbox):\n",
    "        for box in bbox:\n",
    "            self.m_raw_img = cv2.rectangle(self.m_raw_img, (box[1], box[0]), (box[3], box[2]), (255, 0, 0), 5)\n",
    "\n",
    "    def DrawLandMark(self,landmarks):\n",
    "        for pts in landmarks:\n",
    "            for i in range(5):\n",
    "                self.m_raw_img = cv2.circle(self.m_raw_img, (pts[i+5], pts[i]), 5, (0, 255, 0), -1)\n",
    "\n",
    "    def SaveImg(self,file_name):\n",
    "        (filename, extension) = os.path.splitext(file_name)\n",
    "        cv2.imwrite(root_path+filename+\".jpg\",self.m_raw_img)\n",
    "        "
   ]
  },
  {
   "cell_type": "code",
   "execution_count": null,
   "metadata": {
    "scrolled": true
   },
   "outputs": [],
   "source": [
    "def process_mtcnn(imgpath):\n",
    "    (filename, extension) = os.path.splitext(imgpath)\n",
    "    share = CCEShare(imgpath)\n",
    "    bbox, landmarks = share.Detect()\n",
    "    share.DrawBox(bbox)\n",
    "    share.SaveImg(filename+\"-1.jpg\")\n",
    "    share.DrawLandMark(landmarks)\n",
    "    share.SaveImg(filename+\"-2.jpg\")\n",
    "\n",
    "def process_align(imgpath):\n",
    "    image_array = cv2.imread(root_path+imgpath+\".jpg\")\n",
    "    face,landmarks = face_preprocess(image = image_array,landmark_model_type='large',crop_size=640)\n",
    "    mark_face = face.copy()\n",
    "    for key in landmarks:\n",
    "        for ps in landmarks[key]:\n",
    "            cv2.circle(mark_face,ps,3,(0,255,0),-1)\n",
    "    cv2.imwrite(root_path+imgpath+\"-3.jpg\",mark_face)\n",
    "    cv2.imwrite(root_path+imgpath+\"-4.jpg\",face)"
   ]
  },
  {
   "cell_type": "code",
   "execution_count": null,
   "metadata": {
    "scrolled": true
   },
   "outputs": [],
   "source": [
    "def GetFeatures(file_name):\n",
    "    fname = root_path + file_name + \".jpg\"\n",
    "    image_size = 160\n",
    "    margin = 44\n",
    "    gpu_memory_fraction = -1\n",
    "    model = root_path + \"../models/20180402-114759.pb\"\n",
    "    with tf.Graph().as_default():\n",
    "        with tf.Session() as sess:\n",
    "            images = load_and_align_data(sess,[fname],image_size,margin,gpu_memory_fraction)\n",
    "            facenet.load_model(model)\n",
    "            images_placeholder = tf.get_default_graph().get_tensor_by_name(\"input:0\")\n",
    "            embeddings = tf.get_default_graph().get_tensor_by_name(\"embeddings:0\")\n",
    "            phase_train_placeholder = tf.get_default_graph().get_tensor_by_name(\"phase_train:0\")\n",
    "            feed_dict = { images_placeholder: images, phase_train_placeholder:False }\n",
    "            emb = sess.run(embeddings, feed_dict=feed_dict)\n",
    "            if len(emb) > 0:\n",
    "                return emb[0]\n",
    "            else:\n",
    "                return None"
   ]
  },
  {
   "cell_type": "code",
   "execution_count": null,
   "metadata": {
    "scrolled": false
   },
   "outputs": [],
   "source": [
    "def load_and_align_data(sess,image_paths, image_size, margin, gpu_memory_fraction):\n",
    "    minsize = 20\n",
    "    threshold = [ 0.6, 0.7, 0.7 ]\n",
    "    factor = 0.709\n",
    "    \n",
    "    pnet, rnet, onet = align.detect_face.create_mtcnn(sess, None)\n",
    "  \n",
    "    tmp_image_paths=copy.copy(image_paths)\n",
    "    img_list = []\n",
    "    for image in tmp_image_paths:\n",
    "        img = misc.imread(os.path.expanduser(image), mode='RGB')\n",
    "        img_size = np.asarray(img.shape)[0:2]\n",
    "        bounding_boxes, _ = align.detect_face.detect_face(img, minsize, pnet, rnet, onet, threshold, factor)\n",
    "        if len(bounding_boxes) < 1:\n",
    "          image_paths.remove(image)\n",
    "          print(\"can't detect face, remove \", image)\n",
    "          continue\n",
    "        det = np.squeeze(bounding_boxes[0,0:4])\n",
    "        bb = np.zeros(4, dtype=np.int32)\n",
    "        bb[0] = np.maximum(det[0]-margin/2, 0)\n",
    "        bb[1] = np.maximum(det[1]-margin/2, 0)\n",
    "        bb[2] = np.minimum(det[2]+margin/2, img_size[1])\n",
    "        bb[3] = np.minimum(det[3]+margin/2, img_size[0])\n",
    "        cropped = img[bb[1]:bb[3],bb[0]:bb[2],:]\n",
    "        aligned = misc.imresize(cropped, (image_size, image_size), interp='bilinear')\n",
    "        prewhitened = facenet.prewhiten(aligned)\n",
    "        img_list.append(prewhitened)\n",
    "    images = np.stack(img_list)\n",
    "    return images"
   ]
  },
  {
   "cell_type": "code",
   "execution_count": null,
   "metadata": {
    "scrolled": false
   },
   "outputs": [],
   "source": [
    "def GetFaceFeature(fileName):\n",
    "    process_mtcnn(fileName)\n",
    "    process_mtcnn(fileName)\n",
    "    process_align(fileName)\n",
    "    feature = GetFeatures(fileName+\"-4\")\n",
    "    img0= cv2.imread(root_path+fileName+\".jpg\")\n",
    "    img0= cv2.cvtColor(img0.copy(),cv2.COLOR_BGR2RGB)\n",
    "    img1= cv2.imread(root_path+fileName+\"-1.jpg\")\n",
    "    img1= cv2.cvtColor(img1.copy(),cv2.COLOR_BGR2RGB)\n",
    "    img2= cv2.imread(root_path+fileName+\"-2.jpg\")\n",
    "    img2= cv2.cvtColor(img2.copy(),cv2.COLOR_BGR2RGB)\n",
    "    img3= cv2.imread(root_path+fileName+\"-3.jpg\")\n",
    "    img3= cv2.cvtColor(img3.copy(),cv2.COLOR_BGR2RGB)\n",
    "    img4= cv2.imread(root_path+fileName+\"-4.jpg\")\n",
    "    img4= cv2.cvtColor(img4.copy(),cv2.COLOR_BGR2RGB)\n",
    "    return feature,img0,img1,img2,img3,img4"
   ]
  },
  {
   "cell_type": "code",
   "execution_count": null,
   "metadata": {
    "scrolled": false
   },
   "outputs": [],
   "source": [
    "img_list = ['face1','face2','face3']\n",
    "result_list = []\n",
    "fig,ax = plt.subplots(3,4,figsize=(60,40))\n",
    "count = 0\n",
    "for f in img_list:\n",
    "    feature,img0,img1,img2,img3,img4 = GetFaceFeature(f)\n",
    "    result_list.append((feature,img0,img1,img2,img3,img4))\n",
    "    plt.subplot(3,4,count + 1)\n",
    "    count += 1\n",
    "    plt.imshow(img0)\n",
    "    plt.subplot(3,4,count + 1)\n",
    "    count += 1\n",
    "    plt.imshow(img1)\n",
    "    plt.subplot(3,4,count + 1)\n",
    "    count += 1\n",
    "    plt.imshow(img2)\n",
    "    plt.subplot(3,4,count + 1)\n",
    "    count += 1\n",
    "    plt.imshow(img3)\n",
    "    \n",
    "f1 = result_list[0][0]\n",
    "f2 = result_list[1][0]\n",
    "f3 = result_list[2][0]\n",
    "i1 = result_list[0][1]\n",
    "i2 = result_list[1][1]\n",
    "i3 = result_list[2][1]\n",
    "j1 = result_list[0][4]\n",
    "j2 = result_list[1][4]\n",
    "j3 = result_list[2][4]\n",
    "feature1 = cv2.imread(root_path+\"feature1.jpg\")\n",
    "feature1 = cv2.cvtColor(feature1.copy(),cv2.COLOR_BGR2RGB)\n",
    "feature2 = cv2.imread(root_path+\"feature2.jpg\")\n",
    "feature2 = cv2.cvtColor(feature2.copy(),cv2.COLOR_BGR2RGB)\n",
    "feature3 = cv2.imread(root_path+\"feature3.jpg\")\n",
    "feature3 = cv2.cvtColor(feature1.copy(),cv2.COLOR_BGR2RGB)\n",
    "f1"
   ]
  },
  {
   "cell_type": "code",
   "execution_count": null,
   "metadata": {
    "scrolled": false
   },
   "outputs": [],
   "source": [
    "fig,ax = plt.subplots(3,2,figsize=(60,60))\n",
    "plt.subplot(3,2,1)\n",
    "plt.imshow(j1)\n",
    "plt.subplot(3,2,2)\n",
    "plt.imshow(feature1)\n",
    "plt.subplot(3,2,3)\n",
    "plt.imshow(j2)\n",
    "plt.subplot(3,2,4)\n",
    "plt.imshow(feature2)\n",
    "plt.subplot(3,2,5)\n",
    "plt.imshow(j3)\n",
    "plt.subplot(3,2,6)\n",
    "plt.imshow(feature3)"
   ]
  },
  {
   "cell_type": "code",
   "execution_count": null,
   "metadata": {
    "scrolled": false
   },
   "outputs": [],
   "source": [
    "dist1 = np.sqrt(np.sum(np.square(np.subtract(f1, f2))))\n",
    "dist2 = np.sqrt(np.sum(np.square(np.subtract(f1, f3))))\n",
    "dist3 = np.sqrt(np.sum(np.square(np.subtract(f2, f3))))\n",
    "print(dist1,dist2,dist3)\n",
    "fig,ax = plt.subplots(3,3,figsize=(60,40))\n",
    "plt.subplot(3,3,1)\n",
    "plt.imshow(i1)\n",
    "plt.subplot(3,3,2)\n",
    "plt.text(0,0.5,'<-----==%.4f==----->'%dist1,fontdict={'size': 80, 'color':  'red'})\n",
    "plt.subplot(3,3,3)\n",
    "plt.imshow(i2)\n",
    "\n",
    "plt.subplot(3,3,4)\n",
    "plt.imshow(i1)\n",
    "plt.subplot(3,3,5)\n",
    "plt.text(0,0.5,'<-----==%.4f==----->'%dist2,fontdict={'size': 80, 'color':  'red'})\n",
    "plt.subplot(3,3,6)\n",
    "plt.imshow(i3)\n",
    "\n",
    "plt.subplot(3,3,7)\n",
    "plt.imshow(i2)\n",
    "plt.subplot(3,3,8)\n",
    "plt.text(0,0.5,'<-----==%.4f==----->'%dist3,fontdict={'size': 80, 'color':  'red'})\n",
    "plt.subplot(3,3,9)\n",
    "plt.imshow(i3)"
   ]
  },
  {
   "cell_type": "code",
   "execution_count": null,
   "metadata": {},
   "outputs": [],
   "source": []
  }
 ],
 "metadata": {
  "kernelspec": {
   "display_name": "Python 3",
   "language": "python",
   "name": "python3"
  },
  "language_info": {
   "codemirror_mode": {
    "name": "ipython",
    "version": 3
   },
   "file_extension": ".py",
   "mimetype": "text/x-python",
   "name": "python",
   "nbconvert_exporter": "python",
   "pygments_lexer": "ipython3",
   "version": "3.7.9"
  }
 },
 "nbformat": 4,
 "nbformat_minor": 4
}
