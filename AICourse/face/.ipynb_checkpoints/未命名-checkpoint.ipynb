{
 "cells": [
  {
   "cell_type": "code",
   "execution_count": 12,
   "metadata": {},
   "outputs": [],
   "source": [
    "import os,cv2\n",
    "import sys\n",
    "root_path = \"/Users/jim/Desktop/AI-training/demo/C3/face/facenet/src/\"\n",
    "sys.path.append(root_path)\n",
    "from mtcnn import MTCNN\n",
    "from face_align import face_preprocess"
   ]
  },
  {
   "cell_type": "code",
   "execution_count": 13,
   "metadata": {},
   "outputs": [],
   "source": [
    "class CCEShare:\n",
    "\n",
    "    def __init__(self,file_name):\n",
    "        self.m_mtcnn = MTCNN(root_path+'mtcnn.pb')\n",
    "        self.m_raw_img = cv2.imread(root_path+\"../../image/\"+file_name)\n",
    "\n",
    "    def Detect(self):\n",
    "        bbox, scores, landmarks = self.m_mtcnn.detect(self.m_raw_img)\n",
    "        return bbox.astype('int32'),landmarks.astype('int32')\n",
    "\n",
    "    def DrawBox(self,bbox):\n",
    "        for box in bbox:\n",
    "            self.m_raw_img = cv2.rectangle(self.m_raw_img, (box[1], box[0]), (box[3], box[2]), (255, 0, 0), 30)\n",
    "\n",
    "    def DrawLandMark(self,landmarks):\n",
    "        for pts in landmarks:\n",
    "            for i in range(5):\n",
    "                self.m_raw_img = cv2.circle(self.m_raw_img, (pts[i+5], pts[i]), 30, (0, 255, 0), -1)\n",
    "\n",
    "    def SaveImg(self,file_name):\n",
    "        cv2.imwrite(root_path+\"../../image/\"+file_name,self.m_raw_img)\n",
    "        "
   ]
  },
  {
   "cell_type": "code",
   "execution_count": 14,
   "metadata": {},
   "outputs": [],
   "source": [
    "def process_mtcnn(imgpath):\n",
    "    share = CCEShare(imgpath)\n",
    "    bbox, landmarks = share.Detect()\n",
    "    share.DrawBox(bbox)\n",
    "    share.SaveImg(\"mtcnn-box.jpg\")\n",
    "    share.DrawLandMark(landmarks)\n",
    "    share.SaveImg(\"mtcnn-mark.jpg\")\n",
    "\n",
    "def process_align(imgpath):\n",
    "    image_array = cv2.imread(root_path+\"../../image/\"+imgpath)\n",
    "\n",
    "    face,landmarks = face_preprocess(image = image_array,landmark_model_type='large',crop_size=640)\n",
    "    mark_face = face.copy()\n",
    "    for key in landmarks:\n",
    "        for ps in landmarks[key]:\n",
    "            cv2.circle(mark_face,ps,10,(0,255,0),-1)\n",
    "\n",
    "    cv2.imwrite(root_path+\"../../image/\"+\"align-face.jpg\",face)\n",
    "    cv2.imwrite(root_path+\"../../image/\"+\"align-mark.jpg\",mark_face)"
   ]
  },
  {
   "cell_type": "code",
   "execution_count": 15,
   "metadata": {},
   "outputs": [],
   "source": [
    "process_mtcnn(\"mtcnn-0.jpg\")\n",
    "process_align(\"mtcnn-0.jpg\")"
   ]
  },
  {
   "cell_type": "code",
   "execution_count": null,
   "metadata": {},
   "outputs": [],
   "source": []
  }
 ],
 "metadata": {
  "kernelspec": {
   "display_name": "Python 3",
   "language": "python",
   "name": "python3"
  },
  "language_info": {
   "codemirror_mode": {
    "name": "ipython",
    "version": 3
   },
   "file_extension": ".py",
   "mimetype": "text/x-python",
   "name": "python",
   "nbconvert_exporter": "python",
   "pygments_lexer": "ipython3",
   "version": "3.6.2"
  }
 },
 "nbformat": 4,
 "nbformat_minor": 4
}
